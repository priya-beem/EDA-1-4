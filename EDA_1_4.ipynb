{
  "nbformat": 4,
  "nbformat_minor": 0,
  "metadata": {
    "colab": {
      "provenance": []
    },
    "kernelspec": {
      "name": "python3",
      "display_name": "Python 3"
    },
    "language_info": {
      "name": "python"
    }
  },
  "cells": [
    {
      "cell_type": "code",
      "execution_count": null,
      "metadata": {
        "id": "Y4Qwk1EKykf5"
      },
      "outputs": [],
      "source": [
        "from google.colab import files\n",
        "\n",
        "\n",
        "uploaded = files.upload()\n",
        "\n"
      ]
    },
    {
      "cell_type": "markdown",
      "source": [
        "Upload widget is only available when the cell has been executed in the current browser session. Please rerun this cell to enable.\n",
        "Saving BIKE DETAILS.csv to BIKE DETAILS.csv\n"
      ],
      "metadata": {
        "id": "1BIWGKXqzBHV"
      }
    },
    {
      "cell_type": "code",
      "source": [
        "import pandas as pd\n",
        "import numpy as np\n",
        "import seaborn as sns\n",
        "import matplotlib.pyplot as plt\n"
      ],
      "metadata": {
        "id": "fBaM31gByp9l"
      },
      "execution_count": 1,
      "outputs": []
    },
    {
      "cell_type": "code",
      "source": [
        "\n",
        "import pandas as pd\n",
        "df = pd.read_csv('BIKE DETAILS.csv')\n",
        "df.head()"
      ],
      "metadata": {
        "colab": {
          "base_uri": "https://localhost:8080/",
          "height": 339
        },
        "collapsed": true,
        "id": "kp8bm-SUzQV5",
        "outputId": "cc0e7daa-6356-404e-c336-5e4cd684aa8e"
      },
      "execution_count": 4,
      "outputs": [
        {
          "output_type": "error",
          "ename": "FileNotFoundError",
          "evalue": "[Errno 2] No such file or directory: 'BIKE DETAILS.csv'",
          "traceback": [
            "\u001b[0;31m---------------------------------------------------------------------------\u001b[0m",
            "\u001b[0;31mFileNotFoundError\u001b[0m                         Traceback (most recent call last)",
            "\u001b[0;32m<ipython-input-4-e668e0406cdd>\u001b[0m in \u001b[0;36m<cell line: 0>\u001b[0;34m()\u001b[0m\n\u001b[1;32m      1\u001b[0m \u001b[0;32mimport\u001b[0m \u001b[0mpandas\u001b[0m \u001b[0;32mas\u001b[0m \u001b[0mpd\u001b[0m\u001b[0;34m\u001b[0m\u001b[0;34m\u001b[0m\u001b[0m\n\u001b[0;32m----> 2\u001b[0;31m \u001b[0mdf\u001b[0m \u001b[0;34m=\u001b[0m \u001b[0mpd\u001b[0m\u001b[0;34m.\u001b[0m\u001b[0mread_csv\u001b[0m\u001b[0;34m(\u001b[0m\u001b[0;34m'BIKE DETAILS.csv'\u001b[0m\u001b[0;34m)\u001b[0m\u001b[0;34m\u001b[0m\u001b[0;34m\u001b[0m\u001b[0m\n\u001b[0m\u001b[1;32m      3\u001b[0m \u001b[0mdf\u001b[0m\u001b[0;34m.\u001b[0m\u001b[0mhead\u001b[0m\u001b[0;34m(\u001b[0m\u001b[0;34m)\u001b[0m\u001b[0;34m\u001b[0m\u001b[0;34m\u001b[0m\u001b[0m\n",
            "\u001b[0;32m/usr/local/lib/python3.11/dist-packages/pandas/io/parsers/readers.py\u001b[0m in \u001b[0;36mread_csv\u001b[0;34m(filepath_or_buffer, sep, delimiter, header, names, index_col, usecols, dtype, engine, converters, true_values, false_values, skipinitialspace, skiprows, skipfooter, nrows, na_values, keep_default_na, na_filter, verbose, skip_blank_lines, parse_dates, infer_datetime_format, keep_date_col, date_parser, date_format, dayfirst, cache_dates, iterator, chunksize, compression, thousands, decimal, lineterminator, quotechar, quoting, doublequote, escapechar, comment, encoding, encoding_errors, dialect, on_bad_lines, delim_whitespace, low_memory, memory_map, float_precision, storage_options, dtype_backend)\u001b[0m\n\u001b[1;32m   1024\u001b[0m     \u001b[0mkwds\u001b[0m\u001b[0;34m.\u001b[0m\u001b[0mupdate\u001b[0m\u001b[0;34m(\u001b[0m\u001b[0mkwds_defaults\u001b[0m\u001b[0;34m)\u001b[0m\u001b[0;34m\u001b[0m\u001b[0;34m\u001b[0m\u001b[0m\n\u001b[1;32m   1025\u001b[0m \u001b[0;34m\u001b[0m\u001b[0m\n\u001b[0;32m-> 1026\u001b[0;31m     \u001b[0;32mreturn\u001b[0m \u001b[0m_read\u001b[0m\u001b[0;34m(\u001b[0m\u001b[0mfilepath_or_buffer\u001b[0m\u001b[0;34m,\u001b[0m \u001b[0mkwds\u001b[0m\u001b[0;34m)\u001b[0m\u001b[0;34m\u001b[0m\u001b[0;34m\u001b[0m\u001b[0m\n\u001b[0m\u001b[1;32m   1027\u001b[0m \u001b[0;34m\u001b[0m\u001b[0m\n\u001b[1;32m   1028\u001b[0m \u001b[0;34m\u001b[0m\u001b[0m\n",
            "\u001b[0;32m/usr/local/lib/python3.11/dist-packages/pandas/io/parsers/readers.py\u001b[0m in \u001b[0;36m_read\u001b[0;34m(filepath_or_buffer, kwds)\u001b[0m\n\u001b[1;32m    618\u001b[0m \u001b[0;34m\u001b[0m\u001b[0m\n\u001b[1;32m    619\u001b[0m     \u001b[0;31m# Create the parser.\u001b[0m\u001b[0;34m\u001b[0m\u001b[0;34m\u001b[0m\u001b[0m\n\u001b[0;32m--> 620\u001b[0;31m     \u001b[0mparser\u001b[0m \u001b[0;34m=\u001b[0m \u001b[0mTextFileReader\u001b[0m\u001b[0;34m(\u001b[0m\u001b[0mfilepath_or_buffer\u001b[0m\u001b[0;34m,\u001b[0m \u001b[0;34m**\u001b[0m\u001b[0mkwds\u001b[0m\u001b[0;34m)\u001b[0m\u001b[0;34m\u001b[0m\u001b[0;34m\u001b[0m\u001b[0m\n\u001b[0m\u001b[1;32m    621\u001b[0m \u001b[0;34m\u001b[0m\u001b[0m\n\u001b[1;32m    622\u001b[0m     \u001b[0;32mif\u001b[0m \u001b[0mchunksize\u001b[0m \u001b[0;32mor\u001b[0m \u001b[0miterator\u001b[0m\u001b[0;34m:\u001b[0m\u001b[0;34m\u001b[0m\u001b[0;34m\u001b[0m\u001b[0m\n",
            "\u001b[0;32m/usr/local/lib/python3.11/dist-packages/pandas/io/parsers/readers.py\u001b[0m in \u001b[0;36m__init__\u001b[0;34m(self, f, engine, **kwds)\u001b[0m\n\u001b[1;32m   1618\u001b[0m \u001b[0;34m\u001b[0m\u001b[0m\n\u001b[1;32m   1619\u001b[0m         \u001b[0mself\u001b[0m\u001b[0;34m.\u001b[0m\u001b[0mhandles\u001b[0m\u001b[0;34m:\u001b[0m \u001b[0mIOHandles\u001b[0m \u001b[0;34m|\u001b[0m \u001b[0;32mNone\u001b[0m \u001b[0;34m=\u001b[0m \u001b[0;32mNone\u001b[0m\u001b[0;34m\u001b[0m\u001b[0;34m\u001b[0m\u001b[0m\n\u001b[0;32m-> 1620\u001b[0;31m         \u001b[0mself\u001b[0m\u001b[0;34m.\u001b[0m\u001b[0m_engine\u001b[0m \u001b[0;34m=\u001b[0m \u001b[0mself\u001b[0m\u001b[0;34m.\u001b[0m\u001b[0m_make_engine\u001b[0m\u001b[0;34m(\u001b[0m\u001b[0mf\u001b[0m\u001b[0;34m,\u001b[0m \u001b[0mself\u001b[0m\u001b[0;34m.\u001b[0m\u001b[0mengine\u001b[0m\u001b[0;34m)\u001b[0m\u001b[0;34m\u001b[0m\u001b[0;34m\u001b[0m\u001b[0m\n\u001b[0m\u001b[1;32m   1621\u001b[0m \u001b[0;34m\u001b[0m\u001b[0m\n\u001b[1;32m   1622\u001b[0m     \u001b[0;32mdef\u001b[0m \u001b[0mclose\u001b[0m\u001b[0;34m(\u001b[0m\u001b[0mself\u001b[0m\u001b[0;34m)\u001b[0m \u001b[0;34m->\u001b[0m \u001b[0;32mNone\u001b[0m\u001b[0;34m:\u001b[0m\u001b[0;34m\u001b[0m\u001b[0;34m\u001b[0m\u001b[0m\n",
            "\u001b[0;32m/usr/local/lib/python3.11/dist-packages/pandas/io/parsers/readers.py\u001b[0m in \u001b[0;36m_make_engine\u001b[0;34m(self, f, engine)\u001b[0m\n\u001b[1;32m   1878\u001b[0m                 \u001b[0;32mif\u001b[0m \u001b[0;34m\"b\"\u001b[0m \u001b[0;32mnot\u001b[0m \u001b[0;32min\u001b[0m \u001b[0mmode\u001b[0m\u001b[0;34m:\u001b[0m\u001b[0;34m\u001b[0m\u001b[0;34m\u001b[0m\u001b[0m\n\u001b[1;32m   1879\u001b[0m                     \u001b[0mmode\u001b[0m \u001b[0;34m+=\u001b[0m \u001b[0;34m\"b\"\u001b[0m\u001b[0;34m\u001b[0m\u001b[0;34m\u001b[0m\u001b[0m\n\u001b[0;32m-> 1880\u001b[0;31m             self.handles = get_handle(\n\u001b[0m\u001b[1;32m   1881\u001b[0m                 \u001b[0mf\u001b[0m\u001b[0;34m,\u001b[0m\u001b[0;34m\u001b[0m\u001b[0;34m\u001b[0m\u001b[0m\n\u001b[1;32m   1882\u001b[0m                 \u001b[0mmode\u001b[0m\u001b[0;34m,\u001b[0m\u001b[0;34m\u001b[0m\u001b[0;34m\u001b[0m\u001b[0m\n",
            "\u001b[0;32m/usr/local/lib/python3.11/dist-packages/pandas/io/common.py\u001b[0m in \u001b[0;36mget_handle\u001b[0;34m(path_or_buf, mode, encoding, compression, memory_map, is_text, errors, storage_options)\u001b[0m\n\u001b[1;32m    871\u001b[0m         \u001b[0;32mif\u001b[0m \u001b[0mioargs\u001b[0m\u001b[0;34m.\u001b[0m\u001b[0mencoding\u001b[0m \u001b[0;32mand\u001b[0m \u001b[0;34m\"b\"\u001b[0m \u001b[0;32mnot\u001b[0m \u001b[0;32min\u001b[0m \u001b[0mioargs\u001b[0m\u001b[0;34m.\u001b[0m\u001b[0mmode\u001b[0m\u001b[0;34m:\u001b[0m\u001b[0;34m\u001b[0m\u001b[0;34m\u001b[0m\u001b[0m\n\u001b[1;32m    872\u001b[0m             \u001b[0;31m# Encoding\u001b[0m\u001b[0;34m\u001b[0m\u001b[0;34m\u001b[0m\u001b[0m\n\u001b[0;32m--> 873\u001b[0;31m             handle = open(\n\u001b[0m\u001b[1;32m    874\u001b[0m                 \u001b[0mhandle\u001b[0m\u001b[0;34m,\u001b[0m\u001b[0;34m\u001b[0m\u001b[0;34m\u001b[0m\u001b[0m\n\u001b[1;32m    875\u001b[0m                 \u001b[0mioargs\u001b[0m\u001b[0;34m.\u001b[0m\u001b[0mmode\u001b[0m\u001b[0;34m,\u001b[0m\u001b[0;34m\u001b[0m\u001b[0;34m\u001b[0m\u001b[0m\n",
            "\u001b[0;31mFileNotFoundError\u001b[0m: [Errno 2] No such file or directory: 'BIKE DETAILS.csv'"
          ]
        }
      ]
    },
    {
      "cell_type": "code",
      "source": [
        "#1. What is the range of selling prices in the dataset?\n",
        "range_selling_price = df['selling_price'].max() - df['selling_price'].min()\n",
        "print(\"Range of selling prices:\", range_selling_price)\n",
        "Range of selling prices: 755000\n"
      ],
      "metadata": {
        "id": "LZAqd9vHztg0"
      },
      "execution_count": null,
      "outputs": []
    },
    {
      "cell_type": "code",
      "source": [
        "# 2. What is the median selling price for bikes in the dataset?\n",
        "median_selling_price = df['selling_price'].median()\n",
        "print(\"Median selling price:\", median_selling_price)\n",
        "Median selling price: 45000.0\n",
        "\n"
      ],
      "metadata": {
        "id": "zAyEJqI1z202"
      },
      "execution_count": null,
      "outputs": []
    },
    {
      "cell_type": "code",
      "source": [
        "# 4. How many bikes have driven more than 50,000 kilometers?\n",
        "bikes_over_50000_km = (df['km_driven'] > 50000).sum()\n",
        "print(\"Number of bikes driven more than 50,000 kilometers:\", bikes_over_50000_km)\n",
        ""
      ],
      "metadata": {
        "id": "b_MMm4J0oNlp"
      },
      "execution_count": null,
      "outputs": []
    },
    {
      "cell_type": "code",
      "source": [
        "# 5. What is the average km_driven value for each ownership type?\n",
        "avg_km_by_owner = df.groupby('owner')['km_driven'].mean()\n",
        "print(\"Average km_driven by ownership type:\")\n",
        "print(avg_km_by_owner)"
      ],
      "metadata": {
        "id": "gCx-45sToSuc"
      },
      "execution_count": null,
      "outputs": []
    },
    {
      "cell_type": "code",
      "source": [
        "\n",
        "# 6. What proportion of bikes are from the year 2015 or older?\n",
        "proportion_2015_or_older = (df['year'] <= 2015).mean()\n",
        "print(\"Proportion of bikes from the year 2015 or older:\", proportion_2015_or_older*100,'%')\n"
      ],
      "metadata": {
        "id": "xhu4GJTBqIo8"
      },
      "execution_count": null,
      "outputs": []
    },
    {
      "cell_type": "code",
      "source": [
        "# 7. What is the trend of missing values across the dataset?\n",
        "missing_values = df.isnull().sum()\n",
        "print(\"Missing values in each column:\")\n",
        "print(missing_values)"
      ],
      "metadata": {
        "id": "kl1e6gUkqPiF"
      },
      "execution_count": null,
      "outputs": []
    },
    {
      "cell_type": "code",
      "source": [
        "# 8. What is the highest ex_showroom_price recorded, and for which bike?\n",
        "max_ex_showroom = df['ex_showroom_price'].max()\n",
        "bike_with_max_ex_showroom = df.loc[df['ex_showroom_price'] == max_ex_showroom, 'name'].values\n",
        "print(\"Highest ex_showroom_price recorded:\", max_ex_showroom)\n",
        "print(\"Bike with highest ex_showroom_price:\", bike_with_max_ex_showroom)"
      ],
      "metadata": {
        "id": "V_AUYdtvqUp_"
      },
      "execution_count": null,
      "outputs": []
    },
    {
      "cell_type": "code",
      "source": [
        "# 9. What is the total number of bikes listed by each seller type?\n",
        "seller_type_counts = df['seller_type'].value_counts()\n",
        "print(\"Total number of bikes listed by each seller type:\")\n",
        "print(seller_type_counts)"
      ],
      "metadata": {
        "id": "5joGk3aJqaQ4"
      },
      "execution_count": null,
      "outputs": []
    },
    {
      "cell_type": "code",
      "source": [
        "# 10. What is the relationship between selling_price and km_driven for first-owner bikes?\n",
        "sns.scatterplot(data=df, x='km_driven', y='selling_price')\n",
        "plt.title('Relationship between selling_price and km_driven for first-owner bikes')\n",
        "plt.show()"
      ],
      "metadata": {
        "id": "Rt64MMh6qgxc"
      },
      "execution_count": null,
      "outputs": []
    },
    {
      "cell_type": "code",
      "source": [
        "# 11. Identify and remove outliers in the km_driven column using the IQR method.\n",
        "Q1 = df['km_driven'].quantile(0.25)\n",
        "Q3 = df['km_driven'].quantile(0.75)\n",
        "IQR = Q3 - Q1\n",
        "filtered_df = df[~((df['km_driven'] < (Q1 - 1.5 * IQR)) | (df['km_driven'] > (Q3 + 1.5 * IQR)))]\n",
        "print(\"Number of outliers removed:\", len(df) - len(filtered_df))"
      ],
      "metadata": {
        "id": "EdeczCUdquNH"
      },
      "execution_count": null,
      "outputs": []
    },
    {
      "cell_type": "code",
      "source": [
        "# 12. Perform a bivariate analysis to visualize the relationship between year and selling_price.\n",
        "plt.figure(figsize=(18,6))\n",
        "sns.boxplot(data=df, x='year', y='selling_price')\n",
        "plt.title('Relationship between year and selling_price')\n",
        "plt.show()"
      ],
      "metadata": {
        "id": "Cd0v4uV7qzpc"
      },
      "execution_count": null,
      "outputs": []
    },
    {
      "cell_type": "code",
      "source": [
        "# 13. What is the average depreciation in selling price based on the bike's age (2025 - year)?\n",
        "df['age'] = 2025 - df['year']\n",
        "avg_depreciation_by_age = df.groupby('age')['selling_price'].mean()\n",
        "print(\"Average depreciation in selling price based on bike age:\")\n",
        "print(avg_depreciation_by_age)"
      ],
      "metadata": {
        "id": "evfxQ5LTq4i0"
      },
      "execution_count": null,
      "outputs": []
    },
    {
      "cell_type": "code",
      "source": [
        "# 14. Which bike names are priced significantly above the average price for their manufacturing year?\n",
        "yearly_avg = df.groupby('year')['selling_price'].mean().reset_index()\n",
        "merged = df.merge(yearly_avg, on='year', suffixes=('', '_year_avg'))\n",
        "outliers_by_price = merged[merged['selling_price'] > (merged['selling_price_year_avg'] * 1.5)]\n",
        "print(\"Bike names priced significantly above the average price:\")\n",
        "print(outliers_by_price['name'])\n",
        ""
      ],
      "metadata": {
        "id": "DC9x3b7Gq9ii"
      },
      "execution_count": null,
      "outputs": []
    },
    {
      "cell_type": "code",
      "source": [
        "# 15. Develop a correlation matrix for numeric columns and visualize it using a heatmap.\n",
        "correlation_matrix = df[['selling_price', 'km_driven', 'ex_showroom_price', 'year']].corr()\n",
        "sns.heatmap(correlation_matrix, annot=True, cmap='coolwarm', fmt='.2f')\n",
        "plt.title('Correlation Matrix')\n",
        "plt.show()"
      ],
      "metadata": {
        "id": "uj2qmg06rDGy"
      },
      "execution_count": null,
      "outputs": []
    },
    {
      "cell_type": "code",
      "source": [],
      "metadata": {
        "id": "EtDk8Jz0rHIp"
      },
      "execution_count": null,
      "outputs": []
    },
    {
      "cell_type": "markdown",
      "source": [
        "EDA 2"
      ],
      "metadata": {
        "id": "Y6YUI0jVrMP6"
      }
    },
    {
      "cell_type": "code",
      "source": [
        "from google.colab import files\n",
        "uploaded = files.upload()\n",
        "\n",
        "\n",
        "Upload widget is only available when the cell has been executed in the current browser session. Please rerun this cell to enable.\n",
        "Saving Car Sale.csv to Car Sale.csv\n"
      ],
      "metadata": {
        "id": "IQ-bsPptrR27"
      },
      "execution_count": null,
      "outputs": []
    },
    {
      "cell_type": "code",
      "source": [
        "import pandas as pd\n",
        "car_df = pd.read_csv('Car Sale.csv')\n",
        "car_df.head()\n"
      ],
      "metadata": {
        "id": "zbgehvHQrWW_"
      },
      "execution_count": null,
      "outputs": []
    },
    {
      "cell_type": "code",
      "source": [
        "# 1. What is the average selling price of cars for each dealer, and how does it compare across different dealers?\n",
        "avg_price_by_dealer = car_df.groupby('Dealer_Name')['Price ($)'].mean().sort_values(ascending=False)\n",
        "print(\"Average selling price of cars for each dealer:\")\n",
        "print(avg_price_by_dealer)\n",
        ""
      ],
      "metadata": {
        "id": "rR4egwaGrai3"
      },
      "execution_count": null,
      "outputs": []
    },
    {
      "cell_type": "code",
      "source": [
        "# 2. Which car brand (Company) has the highest variation in prices, and what does this tell us about pricing trends?\n",
        "price_std_by_company = car_df.groupby('Company')['Price ($)'].std().sort_values(ascending=False)\n",
        "print(\"Car Brand has the highest Variation in Prices\")\n",
        "print(price_std_by_company)\n",
        ""
      ],
      "metadata": {
        "id": "qwCN7taRr6y9"
      },
      "execution_count": null,
      "outputs": []
    },
    {
      "cell_type": "code",
      "source": [
        "# 3. What is the distribution of car prices for each transmission type, and how do the interquartile ranges compare?\n",
        "sns.boxplot(data=car_df, x='Transmission', y='Price ($)')\n",
        "plt.title('Distribution of car prices for each transmission type')\n",
        "plt.show()\n",
        ""
      ],
      "metadata": {
        "id": "t7e0Q6g2r_jZ"
      },
      "execution_count": null,
      "outputs": []
    },
    {
      "cell_type": "code",
      "source": [
        "# 4. What is the distribution of car prices across different regions?\n",
        "sns.boxplot(data=car_df, x='Dealer_Region', y='Price ($)')\n",
        "plt.title('Distribution of car prices across different regions')\n",
        "plt.show()"
      ],
      "metadata": {
        "id": "XWFFkNRBsDbh"
      },
      "execution_count": null,
      "outputs": []
    },
    {
      "cell_type": "code",
      "source": [
        "# 5. What is the distribution of cars based on body styles?\n",
        "body_style_distribution = car_df['Body Style'].value_counts()\n",
        "print(\"Distribution of cars based on body styles:\")\n",
        "print(body_style_distribution)\n",
        "\n"
      ],
      "metadata": {
        "id": "cvgNHHDksIdb"
      },
      "execution_count": null,
      "outputs": []
    },
    {
      "cell_type": "code",
      "source": [
        "# 6. How does the average selling price of cars vary by customer gender and annual income?\n",
        "avg_price_by_gender_income = car_df.groupby(['Gender', 'Annual Income'])['Price ($)'].mean()\n",
        "print(\"Average selling price of cars by customer gender and annual income:\")\n",
        "print(avg_price_by_gender_income)\n",
        ""
      ],
      "metadata": {
        "id": "okhOqE-IsQgQ"
      },
      "execution_count": null,
      "outputs": []
    },
    {
      "cell_type": "code",
      "source": [
        "# 7. What is the distribution of car prices by region, and how does the number of cars sold vary by region?\n",
        "region_price_distribution = car_df.groupby('Dealer_Region')['Price ($)'].describe()\n",
        "cars_sold_by_region = car_df['Dealer_Region'].value_counts()\n",
        "print(\"Distribution of car prices by region:\")\n",
        "print(region_price_distribution)\n",
        "print(\"Number of cars sold by region:\")\n",
        "print(cars_sold_by_region)\n"
      ],
      "metadata": {
        "id": "T7f-_0-wsVtb"
      },
      "execution_count": null,
      "outputs": []
    },
    {
      "cell_type": "code",
      "source": [
        "# 8. How does the average car price differ between cars with different engine sizes?\n",
        "avg_price_by_engine = car_df.groupby('Engine')['Price ($)'].mean()\n",
        "print(\"Average car price by engine size:\")\n",
        "print(avg_price_by_engine)"
      ],
      "metadata": {
        "id": "mBruEki1tetH"
      },
      "execution_count": null,
      "outputs": []
    },
    {
      "cell_type": "code",
      "source": [
        "# 9. How do car prices vary based on the customer’s annual income bracket?\n",
        "car_df['income_bracket'] = pd.cut(car_df['Annual Income'], bins=[0, 50000, 100000, 500000, 1000000, np.inf],\n",
        "                                  labels=['<50K', '50K-100K', '100K-500K', '500K-1M', '1M+'])\n",
        "avg_price_by_income_bracket = car_df.groupby('Annual Income')['Price ($)'].mean()\n",
        "print(\"Average car price by income bracket:\")\n",
        "print(avg_price_by_income_bracket)\n"
      ],
      "metadata": {
        "id": "YzIdtk5Ntkar"
      },
      "execution_count": null,
      "outputs": []
    },
    {
      "cell_type": "code",
      "source": [
        "# 10. What are the top 5 car models with the highest number of sales, and how does their price distribution look?\n",
        "top_5_models = car_df['Model'].value_counts().head(5).index\n",
        "sns.boxplot(data=car_df[car_df['Model'].isin(top_5_models)], x='Model', y='Price ($)')\n",
        "plt.title('Price distribution of top 5 car models')\n",
        "plt.show()\n",
        ""
      ],
      "metadata": {
        "id": "O9t2AHVAtpFv"
      },
      "execution_count": null,
      "outputs": []
    },
    {
      "cell_type": "code",
      "source": [
        "# 11.  How does car price vary with engine size across different car colors, and which colors have the highest price variation\n",
        "price_by_color_engine = car_df.groupby(['Color', 'Engine'])['Price ($)'].mean().unstack()\n",
        "price_std_by_color = car_df.groupby('Color')['Price ($)'].std().sort_values(ascending=False)\n",
        "print(\"Car price varies with engine size across different car colors:\")\n",
        "print(price_by_color_engine)\n",
        "print(\"Colors with the highest price variation:\")\n",
        "print(price_std_by_color)\n",
        ""
      ],
      "metadata": {
        "id": "vuw3muPRtulV"
      },
      "execution_count": null,
      "outputs": []
    },
    {
      "cell_type": "code",
      "source": [
        "# 12. Is there any seasonal trend in car sales based on the date of sale?\n",
        "car_df['Date'] = pd.to_datetime(car_df['Date'])\n",
        "car_df['Month'] = car_df['Date'].dt.month\n",
        "sales_by_month = car_df['Month'].value_counts().sort_index()\n",
        "print(\"Seasonal trend in car sales based on the date of sale:\")\n",
        "print(sales_by_month)"
      ],
      "metadata": {
        "id": "1vIEThcUtykD"
      },
      "execution_count": null,
      "outputs": []
    },
    {
      "cell_type": "code",
      "source": [
        "# 13. How does the car price distribution change when considering different combinations of body style and transmission type?\n",
        "sns.boxplot(data=car_df, x='Body Style', y='Price ($)', hue = 'Transmission')\n",
        "plt.title('Car Price Distribution by Body Style and Transmission Type')\n",
        "plt.show()\n"
      ],
      "metadata": {
        "id": "-HKv1N2pt2T7"
      },
      "execution_count": null,
      "outputs": []
    },
    {
      "cell_type": "code",
      "source": [
        "# 14. What is the correlation between car price, engine size, and annual income of customers, and how do these features interact?\n",
        "engine_encoded = pd.factorize(car_df['Engine'])[0]\n",
        "correlation_matrix = pd.DataFrame({\n",
        "    'price': car_df['Price ($)'],\n",
        "    'engine_encoded': engine_encoded,\n",
        "    'annual_income': car_df['Annual Income']\n",
        "}).corr()\n",
        "sns.heatmap(correlation_matrix, annot=True, cmap='coolwarm')\n",
        "plt.title('Correlation Matrix')\n",
        "plt.show()"
      ],
      "metadata": {
        "id": "RzNY5ZJxt-yM"
      },
      "execution_count": null,
      "outputs": []
    },
    {
      "cell_type": "code",
      "source": [
        "# 15. How does the average car price vary across different car models and engine types?\n",
        "avg_price_model_engine = car_df.groupby(['Model', 'Engine'])['Price ($)'].mean().sort_values(ascending=False)\n",
        "print(\"Average car price by model and engine type:\")\n",
        "print(avg_price_model_engine)\n",
        "\n",
        ""
      ],
      "metadata": {
        "id": "zcDbeOKxuESO"
      },
      "execution_count": null,
      "outputs": []
    },
    {
      "cell_type": "markdown",
      "source": [
        "EDA 3"
      ],
      "metadata": {
        "id": "2tCWllxCuKqU"
      }
    },
    {
      "cell_type": "code",
      "source": [
        "from google.colab import files\n",
        "\n",
        "\n",
        "uploaded = files.upload()"
      ],
      "metadata": {
        "id": "r0R8pji_uJTq"
      },
      "execution_count": null,
      "outputs": []
    },
    {
      "cell_type": "markdown",
      "source": [
        "Upload widget is only available when the cell has been executed in the current browser session. Please rerun this cell to enable.\n",
        "Saving amazon.csv to amazon.csv\n",
        "\n"
      ],
      "metadata": {
        "id": "ua-iuRrouSAx"
      }
    },
    {
      "cell_type": "code",
      "source": [
        "import pandas as pd\n",
        "import matplotlib.pyplot as plt\n",
        "import seaborn as sns\n",
        "\n",
        "# Load the dataset\n",
        "df = pd.read_csv(\"amazon.csv\")\n",
        ""
      ],
      "metadata": {
        "id": "dZEBa3eiuV8Z"
      },
      "execution_count": null,
      "outputs": []
    },
    {
      "cell_type": "code",
      "source": [
        "# Data Cleaning\n",
        "df['discounted_price'] = df['discounted_price'].str.replace('₹', '').str.replace(',', '').astype(float)\n",
        "df['actual_price'] = df['actual_price'].str.replace('₹', '').str.replace(',', '').astype(float)\n",
        "df['discount_percentage'] = df['discount_percentage'].str.replace('%', '').astype(float)\n",
        "df['rating'] = pd.to_numeric(df['rating'], errors='coerce')\n",
        "df['rating_count'] = pd.to_numeric(df['rating_count'].str.replace(',', ''), errors='coerce')\n",
        "df['main_category'] = df['category'].str.split('|').str[0]\n",
        ""
      ],
      "metadata": {
        "id": "0Dwaoq1XuY2C"
      },
      "execution_count": null,
      "outputs": []
    },
    {
      "cell_type": "code",
      "source": [
        "# 1. What is the average rating for each product category?\n",
        "print(\"\\n1. What is the average rating for each product category?\")\n",
        "print(df.groupby('main_category')['rating'].mean().sort_values(ascending=False))"
      ],
      "metadata": {
        "id": "t2RtqmDLudHp"
      },
      "execution_count": null,
      "outputs": []
    },
    {
      "cell_type": "code",
      "source": [
        "# 2. What are the top rating_count products by category?\n",
        "print(\"\\n2. What are the top rating_count products by category?\")\n",
        "top_rating_products = df.loc[df.groupby('main_category')['rating_count'].idxmax()]\n",
        "print(top_rating_products[['main_category', 'product_name', 'rating_count']])\n",
        ""
      ],
      "metadata": {
        "id": "uaXEJp0YuhN5"
      },
      "execution_count": null,
      "outputs": []
    },
    {
      "cell_type": "code",
      "source": [
        "# 3. What is the distribution of discounted prices vs. actual prices?\n",
        "print(\"\\n3. What is the distribution of discounted prices vs. actual prices?\")\n",
        "plt.figure(figsize=(10,5))\n",
        "sns.kdeplot(df['discounted_price'], label='Discounted Price', fill=True)\n",
        "sns.kdeplot(df['actual_price'], label='Actual Price', fill=True)\n",
        "plt.title('Distribution of Discounted vs. Actual Prices')\n",
        "plt.legend()\n",
        "plt.show()\n",
        ""
      ],
      "metadata": {
        "id": "8Uzx3djquo7U"
      },
      "execution_count": null,
      "outputs": []
    },
    {
      "cell_type": "code",
      "source": [
        "# 4. How does the average discount percentage vary across categories?\n",
        "print(\"\\n4. How does the average discount percentage vary across categories?\")\n",
        "discount_by_category = df.groupby('main_category')['discount_percentage'].mean().sort_values(ascending=False)\n",
        "print(discount_by_category)\n",
        ""
      ],
      "metadata": {
        "id": "BldlkRchuvh_"
      },
      "execution_count": null,
      "outputs": []
    },
    {
      "cell_type": "code",
      "source": [
        "# 5. What are the most popular product names?\n",
        "print(\"\\n5. What are the most popular product names?\")\n",
        "popular_names = df.sort_values(by='rating_count', ascending=False)[['product_name', 'rating_count']].head(10)\n",
        "print(popular_names)\n",
        ""
      ],
      "metadata": {
        "id": "fk_QHPtHu2T-"
      },
      "execution_count": null,
      "outputs": []
    },
    {
      "cell_type": "code",
      "source": [
        "# 6. What are the most popular product keywords?\n",
        "print(\"\\n6. What are the most popular product keywords?\")\n",
        "from collections import Counter\n",
        "import re\n",
        "\n",
        "all_keywords = df['product_name'].dropna().apply(lambda x: re.findall(r'\\b\\w+\\b', x.lower()))\n",
        "flat_keywords = [word for sublist in all_keywords for word in sublist]\n",
        "keyword_counts = Counter(flat_keywords)\n",
        "print(keyword_counts.most_common(10))"
      ],
      "metadata": {
        "id": "98kJpQu6u_pO"
      },
      "execution_count": null,
      "outputs": []
    },
    {
      "cell_type": "code",
      "source": [
        "# 7. What are the most popular product reviews?\n",
        "print(\"\\n7. What are the most popular product reviews?\")\n",
        "popular_reviews = df.loc[df['rating_count'].nlargest(5).index][['product_name', 'review_content']]\n",
        "print(popular_reviews)\n",
        ""
      ],
      "metadata": {
        "id": "MnZEUXopvEPJ"
      },
      "execution_count": null,
      "outputs": []
    },
    {
      "cell_type": "code",
      "source": [
        "# 8. What is the correlation between discounted_price and rating?\n",
        "print(\"\\n8. What is the correlation between discounted_price and rating?\")\n",
        "correlation = df['discounted_price'].corr(df['rating'])\n",
        "print(f\"Correlation: {correlation:.2f}\")\n",
        ""
      ],
      "metadata": {
        "id": "3ydrEpgdvJEV"
      },
      "execution_count": null,
      "outputs": []
    },
    {
      "cell_type": "code",
      "source": [
        "# 9. What are the Top 5 categories based on the highest ratings?\n",
        "print(\"\\n9. What are the Top 5 categories based on the highest ratings?\")\n",
        "top_categories = df.groupby('main_category')['rating'].mean().sort_values(ascending=False).head(5)\n",
        "print(top_categories)"
      ],
      "metadata": {
        "id": "HjDHCIgqvQTT"
      },
      "execution_count": null,
      "outputs": []
    },
    {
      "cell_type": "code",
      "source": [
        "# 10. Identify any potential areas for improvement or optimization based on the data analysis.\n",
        "print(\"\\n10. Identify any potential areas for improvement or optimization based on the data analysis.\")\n",
        "print(\"\"\"\n",
        "- Some categories have low average ratings – investigate product quality or descriptions.\n",
        "- Large discounts don't always correlate with high ratings – reassess pricing strategy.\n",
        "- Focus marketing on products with high ratings but low visibility.\n",
        "- Improve SEO on frequently used keywords in product titles.\n",
        "- Consider customer feedback on low-rated high-discount products for improvements.\n",
        "\"\"\")\n",
        ""
      ],
      "metadata": {
        "id": "LbCgvjCnvVmA"
      },
      "execution_count": null,
      "outputs": []
    },
    {
      "cell_type": "code",
      "source": [],
      "metadata": {
        "id": "KfweK1lsvbiA"
      },
      "execution_count": null,
      "outputs": []
    },
    {
      "cell_type": "markdown",
      "source": [
        "EDA 4"
      ],
      "metadata": {
        "id": "SfuEfiv9vjUl"
      }
    },
    {
      "cell_type": "code",
      "source": [
        "from google.colab import files\n",
        "\n",
        "\n",
        "uploaded = files.upload()\n"
      ],
      "metadata": {
        "colab": {
          "base_uri": "https://localhost:8080/",
          "height": 38
        },
        "id": "t49l5yxQvmBt",
        "outputId": "9006d3d6-d0d9-4337-b596-dd6c1e057a09"
      },
      "execution_count": 54,
      "outputs": [
        {
          "output_type": "display_data",
          "data": {
            "text/plain": [
              "<IPython.core.display.HTML object>"
            ],
            "text/html": [
              "\n",
              "     <input type=\"file\" id=\"files-310b31cc-7731-4a9c-ae7c-42fb0740c7b7\" name=\"files[]\" multiple disabled\n",
              "        style=\"border:none\" />\n",
              "     <output id=\"result-310b31cc-7731-4a9c-ae7c-42fb0740c7b7\">\n",
              "      Upload widget is only available when the cell has been executed in the\n",
              "      current browser session. Please rerun this cell to enable.\n",
              "      </output>\n",
              "      <script>// Copyright 2017 Google LLC\n",
              "//\n",
              "// Licensed under the Apache License, Version 2.0 (the \"License\");\n",
              "// you may not use this file except in compliance with the License.\n",
              "// You may obtain a copy of the License at\n",
              "//\n",
              "//      http://www.apache.org/licenses/LICENSE-2.0\n",
              "//\n",
              "// Unless required by applicable law or agreed to in writing, software\n",
              "// distributed under the License is distributed on an \"AS IS\" BASIS,\n",
              "// WITHOUT WARRANTIES OR CONDITIONS OF ANY KIND, either express or implied.\n",
              "// See the License for the specific language governing permissions and\n",
              "// limitations under the License.\n",
              "\n",
              "/**\n",
              " * @fileoverview Helpers for google.colab Python module.\n",
              " */\n",
              "(function(scope) {\n",
              "function span(text, styleAttributes = {}) {\n",
              "  const element = document.createElement('span');\n",
              "  element.textContent = text;\n",
              "  for (const key of Object.keys(styleAttributes)) {\n",
              "    element.style[key] = styleAttributes[key];\n",
              "  }\n",
              "  return element;\n",
              "}\n",
              "\n",
              "// Max number of bytes which will be uploaded at a time.\n",
              "const MAX_PAYLOAD_SIZE = 100 * 1024;\n",
              "\n",
              "function _uploadFiles(inputId, outputId) {\n",
              "  const steps = uploadFilesStep(inputId, outputId);\n",
              "  const outputElement = document.getElementById(outputId);\n",
              "  // Cache steps on the outputElement to make it available for the next call\n",
              "  // to uploadFilesContinue from Python.\n",
              "  outputElement.steps = steps;\n",
              "\n",
              "  return _uploadFilesContinue(outputId);\n",
              "}\n",
              "\n",
              "// This is roughly an async generator (not supported in the browser yet),\n",
              "// where there are multiple asynchronous steps and the Python side is going\n",
              "// to poll for completion of each step.\n",
              "// This uses a Promise to block the python side on completion of each step,\n",
              "// then passes the result of the previous step as the input to the next step.\n",
              "function _uploadFilesContinue(outputId) {\n",
              "  const outputElement = document.getElementById(outputId);\n",
              "  const steps = outputElement.steps;\n",
              "\n",
              "  const next = steps.next(outputElement.lastPromiseValue);\n",
              "  return Promise.resolve(next.value.promise).then((value) => {\n",
              "    // Cache the last promise value to make it available to the next\n",
              "    // step of the generator.\n",
              "    outputElement.lastPromiseValue = value;\n",
              "    return next.value.response;\n",
              "  });\n",
              "}\n",
              "\n",
              "/**\n",
              " * Generator function which is called between each async step of the upload\n",
              " * process.\n",
              " * @param {string} inputId Element ID of the input file picker element.\n",
              " * @param {string} outputId Element ID of the output display.\n",
              " * @return {!Iterable<!Object>} Iterable of next steps.\n",
              " */\n",
              "function* uploadFilesStep(inputId, outputId) {\n",
              "  const inputElement = document.getElementById(inputId);\n",
              "  inputElement.disabled = false;\n",
              "\n",
              "  const outputElement = document.getElementById(outputId);\n",
              "  outputElement.innerHTML = '';\n",
              "\n",
              "  const pickedPromise = new Promise((resolve) => {\n",
              "    inputElement.addEventListener('change', (e) => {\n",
              "      resolve(e.target.files);\n",
              "    });\n",
              "  });\n",
              "\n",
              "  const cancel = document.createElement('button');\n",
              "  inputElement.parentElement.appendChild(cancel);\n",
              "  cancel.textContent = 'Cancel upload';\n",
              "  const cancelPromise = new Promise((resolve) => {\n",
              "    cancel.onclick = () => {\n",
              "      resolve(null);\n",
              "    };\n",
              "  });\n",
              "\n",
              "  // Wait for the user to pick the files.\n",
              "  const files = yield {\n",
              "    promise: Promise.race([pickedPromise, cancelPromise]),\n",
              "    response: {\n",
              "      action: 'starting',\n",
              "    }\n",
              "  };\n",
              "\n",
              "  cancel.remove();\n",
              "\n",
              "  // Disable the input element since further picks are not allowed.\n",
              "  inputElement.disabled = true;\n",
              "\n",
              "  if (!files) {\n",
              "    return {\n",
              "      response: {\n",
              "        action: 'complete',\n",
              "      }\n",
              "    };\n",
              "  }\n",
              "\n",
              "  for (const file of files) {\n",
              "    const li = document.createElement('li');\n",
              "    li.append(span(file.name, {fontWeight: 'bold'}));\n",
              "    li.append(span(\n",
              "        `(${file.type || 'n/a'}) - ${file.size} bytes, ` +\n",
              "        `last modified: ${\n",
              "            file.lastModifiedDate ? file.lastModifiedDate.toLocaleDateString() :\n",
              "                                    'n/a'} - `));\n",
              "    const percent = span('0% done');\n",
              "    li.appendChild(percent);\n",
              "\n",
              "    outputElement.appendChild(li);\n",
              "\n",
              "    const fileDataPromise = new Promise((resolve) => {\n",
              "      const reader = new FileReader();\n",
              "      reader.onload = (e) => {\n",
              "        resolve(e.target.result);\n",
              "      };\n",
              "      reader.readAsArrayBuffer(file);\n",
              "    });\n",
              "    // Wait for the data to be ready.\n",
              "    let fileData = yield {\n",
              "      promise: fileDataPromise,\n",
              "      response: {\n",
              "        action: 'continue',\n",
              "      }\n",
              "    };\n",
              "\n",
              "    // Use a chunked sending to avoid message size limits. See b/62115660.\n",
              "    let position = 0;\n",
              "    do {\n",
              "      const length = Math.min(fileData.byteLength - position, MAX_PAYLOAD_SIZE);\n",
              "      const chunk = new Uint8Array(fileData, position, length);\n",
              "      position += length;\n",
              "\n",
              "      const base64 = btoa(String.fromCharCode.apply(null, chunk));\n",
              "      yield {\n",
              "        response: {\n",
              "          action: 'append',\n",
              "          file: file.name,\n",
              "          data: base64,\n",
              "        },\n",
              "      };\n",
              "\n",
              "      let percentDone = fileData.byteLength === 0 ?\n",
              "          100 :\n",
              "          Math.round((position / fileData.byteLength) * 100);\n",
              "      percent.textContent = `${percentDone}% done`;\n",
              "\n",
              "    } while (position < fileData.byteLength);\n",
              "  }\n",
              "\n",
              "  // All done.\n",
              "  yield {\n",
              "    response: {\n",
              "      action: 'complete',\n",
              "    }\n",
              "  };\n",
              "}\n",
              "\n",
              "scope.google = scope.google || {};\n",
              "scope.google.colab = scope.google.colab || {};\n",
              "scope.google.colab._files = {\n",
              "  _uploadFiles,\n",
              "  _uploadFilesContinue,\n",
              "};\n",
              "})(self);\n",
              "</script> "
            ]
          },
          "metadata": {}
        }
      ]
    },
    {
      "cell_type": "code",
      "source": [],
      "metadata": {
        "id": "Rh0JN66avrwb"
      },
      "execution_count": null,
      "outputs": []
    },
    {
      "cell_type": "markdown",
      "source": [
        "Upload widget is only available when the cell has been executed in the current browser session. Please rerun this cell to enable.\n",
        "Saving spotify.csv to spotify.csv"
      ],
      "metadata": {
        "id": "lFYic1lJvwof"
      }
    },
    {
      "cell_type": "code",
      "source": [
        "import pandas as pd\n",
        "import numpy as np\n",
        "import matplotlib.pyplot as plt\n",
        "import seaborn as sns\n",
        "\n",
        "# Load the dataset\n",
        "df = pd.read_csv(\"spotify.csv\")\n"
      ],
      "metadata": {
        "id": "MBrezzZEvxlI"
      },
      "execution_count": null,
      "outputs": []
    },
    {
      "cell_type": "code",
      "source": [
        "# 1. Read the dataframe, check null value if present then do the needful, check duplicate row, if present then do the needful\n",
        "print(\"\\n1. Read the dataframe, check null value if present then do the needful, check duplicate row, if present then do the needful\")\n",
        "\n",
        "print(\"\\nNull Values Before Handling:\")\n",
        "print(df.isnull().sum())\n",
        "\n",
        "# Drop rows with any null values\n",
        "df.dropna(inplace=True)\n",
        "\n",
        "# Remove duplicate rows\n",
        "df.drop_duplicates(inplace=True)\n",
        "\n",
        "print(\"\\nNull Values After Handling:\")\n",
        "print(df.isnull().sum())\n",
        "print(\"\\nShape after removing nulls and duplicates:\", df.shape)\n",
        ""
      ],
      "metadata": {
        "id": "uuKcGyxKv0kb"
      },
      "execution_count": null,
      "outputs": []
    },
    {
      "cell_type": "code",
      "source": [
        "# 2. What is the distribution of popularity among the tracks in the dataset? Visualize it using a histogram\n",
        "print(\"\\n2. What is the distribution of popularity among the tracks in the dataset? Visualize it using a histogram\")\n",
        "plt.figure(figsize=(10,5))\n",
        "sns.histplot(df['Popularity'], bins=30, kde=True, color='skyblue')\n",
        "plt.title(\"Distribution of Track Popularity\")\n",
        "plt.xlabel(\"Popularity\")\n",
        "plt.ylabel(\"Count\")\n",
        "plt.show()"
      ],
      "metadata": {
        "id": "tvj5XwFFv5ox"
      },
      "execution_count": null,
      "outputs": []
    },
    {
      "cell_type": "code",
      "source": [
        "# 3. Is there any relationship between the popularity and the duration of tracks? Explore this using a scatter plot\n",
        "print(\"\\n3. Is there any relationship between the popularity and the duration of tracks? Explore this using a scatter plot\")\n",
        "plt.figure(figsize=(10,6))\n",
        "sns.scatterplot(data=df, x='Duration (ms)', y='Popularity', alpha=0.6)\n",
        "plt.title(\"Popularity vs Duration of Tracks\")\n",
        "plt.xlabel(\"Duration (ms)\")\n",
        "plt.ylabel(\"Popularity\")\n",
        "plt.show()"
      ],
      "metadata": {
        "id": "Xqrv4ecBv_kH"
      },
      "execution_count": null,
      "outputs": []
    },
    {
      "cell_type": "code",
      "source": [
        "\n",
        "# 4. Which artist has the highest number of tracks in the dataset? Display the count of tracks for each artist using a countplot\n",
        "print(\"\\n4. Which artist has the highest number of tracks in the dataset? Display the count of tracks for each artist using a countplot\")\n",
        "plt.figure(figsize=(12,6))\n",
        "top_artists = df['Artist'].value_counts().head(10)\n",
        "sns.countplot(data=df[df['Artist'].isin(top_artists.index)], x='Artist', order=top_artists.index)\n",
        "plt.xticks(rotation=45)\n",
        "plt.title(\"Top Artists by Track Count\")\n",
        "plt.xlabel(\"Artist Name\")\n",
        "plt.ylabel(\"Track Count\")\n",
        "plt.show()"
      ],
      "metadata": {
        "id": "lviQnNE7wFc0"
      },
      "execution_count": null,
      "outputs": []
    },
    {
      "cell_type": "code",
      "source": [
        "# 5. What are the top 5 least popular tracks in the dataset? Provide the artist name and track name for each\n",
        "print(\"\\n5. What are the top 5 least popular tracks in the dataset? Provide the artist name and track name for each\")\n",
        "least_popular = df.sort_values(by='Popularity').head(5)\n",
        "print(least_popular[['Artist', 'Track Name', 'Popularity']])\n",
        "\n"
      ],
      "metadata": {
        "id": "2-USqF0DwKDO"
      },
      "execution_count": null,
      "outputs": []
    },
    {
      "cell_type": "code",
      "source": [
        "# 6. Among the top 5 most popular artists, which artist has the highest popularity on average? Calculate and display the average popularity for each artist\n",
        "print(\"\\n6. Among the top 5 most popular artists, which artist has the highest popularity on average? Calculate and display the average popularity for each artist\")\n",
        "top_5_artists = df['Artist'].value_counts().head(5).index\n",
        "avg_popularity = df[df['Artist'].isin(top_5_artists)].groupby('Artist')['Popularity'].mean().sort_values(ascending=False)\n",
        "print(avg_popularity)\n",
        ""
      ],
      "metadata": {
        "id": "y93M8eSuwPOv"
      },
      "execution_count": null,
      "outputs": []
    },
    {
      "cell_type": "code",
      "source": [
        "# 7. For the top 5 most popular artists, what are their most popular tracks? List the track name for each artist\n",
        "print(\"\\n7. For the top 5 most popular artists, what are their most popular tracks? List the track name for each artist\")\n",
        "most_popular_tracks = df[df['Artist'].isin(top_5_artists)].sort_values(by='Popularity', ascending=False)\n",
        "for artist in top_5_artists:\n",
        "    top_track = most_popular_tracks[most_popular_tracks['Artist'] == artist].iloc[0]\n",
        "    print(f\"{artist}: {top_track['Track Name']} (Popularity: {top_track['Popularity']})\")\n"
      ],
      "metadata": {
        "id": "ykeoXuMEwU8W"
      },
      "execution_count": null,
      "outputs": []
    },
    {
      "cell_type": "code",
      "source": [
        "# 8. Visualize relationships between multiple numerical variables simultaneously using a pair plot\n",
        "print(\"\\n8. Visualize relationships between multiple numerical variables simultaneously using a pair plot\")\n",
        "sns.pairplot(df[['Popularity', 'Duration (ms)']].dropna())\n",
        "plt.show()"
      ],
      "metadata": {
        "id": "EnrkO0FtwZ_6"
      },
      "execution_count": null,
      "outputs": []
    },
    {
      "cell_type": "code",
      "source": [
        "# 9. Does the duration of tracks vary significantly across different artists? Explore this visually using a box plot or violin plot\n",
        "print(\"\\n9. Does the duration of tracks vary significantly across different artists? Explore this visually using a box plot or violin plot\")\n",
        "plt.figure(figsize=(12,6))\n",
        "sns.boxplot(data=df[df['Artist'].isin(top_5_artists)], x='Artist', y='Duration (ms)')\n",
        "plt.xticks(rotation=45)\n",
        "plt.title(\"Track Duration Across Top Artists\")\n",
        "plt.xlabel(\"Artist Name\")\n",
        "plt.ylabel(\"Duration (ms)\")\n",
        "plt.show()\n"
      ],
      "metadata": {
        "id": "w-fOKnFXwkaK"
      },
      "execution_count": null,
      "outputs": []
    },
    {
      "cell_type": "code",
      "source": [
        "# 10. How does the distribution of track popularity vary for different artists? Visualize this using a swarm plot or a violin plot\n",
        "print(\"\\n10. How does the distribution of track popularity vary for different artists? Visualize this using a swarm plot or a violin plot\")\n",
        "plt.figure(figsize=(12,6))\n",
        "sns.violinplot(data=df[df['Artist'].isin(top_5_artists)], x='Artist', y='Popularity')\n",
        "plt.xticks(rotation=45)\n",
        "plt.title(\"Track Popularity Distribution Across Top Artists\")\n",
        "plt.xlabel(\"Artist Name\")\n",
        "plt.ylabel(\"Popularity\")\n",
        "plt.show()\n",
        ""
      ],
      "metadata": {
        "id": "Q6mz-5bywpFM"
      },
      "execution_count": null,
      "outputs": []
    },
    {
      "cell_type": "code",
      "source": [],
      "metadata": {
        "id": "XLCaF5BtwtO0"
      },
      "execution_count": null,
      "outputs": []
    }
  ]
}